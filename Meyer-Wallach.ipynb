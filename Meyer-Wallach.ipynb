{
 "cells": [
  {
   "cell_type": "code",
   "execution_count": 8,
   "metadata": {},
   "outputs": [
    {
     "name": "stdout",
     "output_type": "stream",
     "text": [
      "Parameters: [5.26436593 3.26552825]\n",
      "Q values for each basis state: [1.0000000000000009, 1.0000000000000009, 1.0000000000000009, 1.0000000000000009]\n",
      "Average Meyer-Wallach Q: 1.0000\n"
     ]
    }
   ],
   "source": [
    "import pennylane as qml\n",
    "import numpy as np\n",
    "\n",
    "def meyer_wallach_q(state, num_qubits):\n",
    "    \"\"\"Calculate Meyer-Wallach Q measure for a given state.\"\"\"\n",
    "    sum_purities = 0.0\n",
    "    state = state.reshape([2] * num_qubits)  # Reshape statevector\n",
    "    \n",
    "    for qubit in range(num_qubits):\n",
    "        # Move the target qubit to first position and reshape\n",
    "        psi = np.moveaxis(state, qubit, 0).reshape(2, -1)\n",
    "        \n",
    "        # Calculate reduced density matrix\n",
    "        rho = psi @ psi.conj().T\n",
    "        purity = np.trace(rho @ rho).real\n",
    "        sum_purities += purity\n",
    "    \n",
    "    Q = 2 * (1 - sum_purities / num_qubits)\n",
    "    return Q\n",
    "\n",
    "# Define a specific circuit (using circuit_2 as an example)\n",
    "def example_circuit(params, wires):\n",
    "        qml.Hadamard(wires=wires[0])\n",
    "        qml.Hadamard(wires=wires[1])\n",
    "        qml.CZ(wires=[wires[0], wires[1]])\n",
    "        qml.RX(params[0], wires=wires[0])\n",
    "        qml.RX(params[1], wires=wires[1])\n",
    "\n",
    "# Parameters for the circuit\n",
    "params = np.random.uniform(0, 2 * np.pi, 2)  # change the parameters as needed\n",
    "num_qubits = 2 # Number of qubits in the circuit (change if depend on your circuit)\n",
    "\n",
    "# Create device and quantum node\n",
    "dev = qml.device(\"default.qubit\", wires=num_qubits)\n",
    "\n",
    "@qml.qnode(dev)\n",
    "def run_circuit(params, input_state):\n",
    "    \"\"\"Run the quantum circuit with given parameters and input state.\"\"\"\n",
    "    qml.BasisState(input_state, wires=range(num_qubits))\n",
    "    example_circuit(params, wires=range(num_qubits))\n",
    "    return qml.state()\n",
    "\n",
    "# Calculate Q for all basis states\n",
    "q_values = []\n",
    "for state_idx in range(2**num_qubits):\n",
    "    input_state = [int(x) for x in np.binary_repr(state_idx, width=num_qubits)]\n",
    "    state = run_circuit(params, input_state)\n",
    "    Q = meyer_wallach_q(state, num_qubits)\n",
    "    q_values.append(Q)\n",
    "\n",
    "# Average Q over all basis states\n",
    "average_Q = np.mean(q_values)\n",
    "\n",
    "print(f\"Parameters: {params}\")\n",
    "print(f\"Q values for each basis state: {q_values}\")\n",
    "print(f\"Average Meyer-Wallach Q: {average_Q:.4f}\")"
   ]
  }
 ],
 "metadata": {
  "kernelspec": {
   "display_name": "Audio_QCNN",
   "language": "python",
   "name": "python3"
  },
  "language_info": {
   "codemirror_mode": {
    "name": "ipython",
    "version": 3
   },
   "file_extension": ".py",
   "mimetype": "text/x-python",
   "name": "python",
   "nbconvert_exporter": "python",
   "pygments_lexer": "ipython3",
   "version": "3.11.11"
  }
 },
 "nbformat": 4,
 "nbformat_minor": 2
}
